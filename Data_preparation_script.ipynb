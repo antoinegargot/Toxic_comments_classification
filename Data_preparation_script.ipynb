{
 "cells": [
  {
   "cell_type": "code",
   "execution_count": 37,
   "metadata": {
    "ExecuteTime": {
     "end_time": "2018-04-06T04:04:02.342655Z",
     "start_time": "2018-04-06T04:04:02.246Z"
    }
   },
   "outputs": [],
   "source": [
    "library(tidyverse)\n",
    "library(magrittr)\n",
    "library(text2vec)\n",
    "library(tokenizers)\n",
    "library(glmnet)\n",
    "library(doParallel)\n",
    "library(tm)\n",
    "library(caret)\n",
    "registerDoParallel(4)"
   ]
  },
  {
   "cell_type": "markdown",
   "metadata": {},
   "source": [
    "## Data import"
   ]
  },
  {
   "cell_type": "code",
   "execution_count": 38,
   "metadata": {
    "ExecuteTime": {
     "end_time": "2018-04-06T04:04:19.687391Z",
     "start_time": "2018-04-06T04:04:03.222Z"
    }
   },
   "outputs": [],
   "source": [
    "data_set <- read.csv(\"DATA/train.csv\")\n",
    "targets <- c(\"toxic\", \"severe_toxic\", \"obscene\", \"threat\", \"insult\", \"identity_hate\")"
   ]
  },
  {
   "cell_type": "code",
   "execution_count": 39,
   "metadata": {
    "ExecuteTime": {
     "end_time": "2018-04-06T04:04:22.669450Z",
     "start_time": "2018-04-06T04:04:22.645Z"
    }
   },
   "outputs": [
    {
     "name": "stdout",
     "output_type": "stream",
     "text": [
      "[1] 159571      8\n",
      "[1] \"id\"            \"comment_text\"  \"toxic\"         \"severe_toxic\" \n",
      "[5] \"obscene\"       \"threat\"        \"insult\"        \"identity_hate\"\n"
     ]
    }
   ],
   "source": [
    "print(dim(data_set))\n",
    "#print(head(data_set))\n",
    "print(names(data_set))"
   ]
  },
  {
   "cell_type": "markdown",
   "metadata": {},
   "source": [
    "## Adding new feature to the data set"
   ]
  },
  {
   "cell_type": "code",
   "execution_count": 40,
   "metadata": {
    "ExecuteTime": {
     "end_time": "2018-04-06T04:04:26.720280Z",
     "start_time": "2018-04-06T04:04:23.838Z"
    }
   },
   "outputs": [],
   "source": [
    "data <- data_set %>% \n",
    "  select(-one_of(targets)) %>% \n",
    "  mutate(length = str_length(comment_text), ncap = str_count(comment_text, \"[A-Z]\"), ncap_len = ncap / length, nexcl = str_count(comment_text, fixed(\"!\")), nquest = str_count(comment_text, fixed(\"?\")), npunct = str_count(comment_text, \"[[:punct:]]\"), nword = str_count(comment_text, \"\\\\w+\"), nsymb = str_count(comment_text, \"&|@|#|\\\\$|%|\\\\*|\\\\^\")) %>% \n",
    "  select(-id)"
   ]
  },
  {
   "cell_type": "markdown",
   "metadata": {},
   "source": [
    "## Preprocessing and comments tokenization  "
   ]
  },
  {
   "cell_type": "code",
   "execution_count": 41,
   "metadata": {
    "ExecuteTime": {
     "end_time": "2018-04-06T04:04:38.921726Z",
     "start_time": "2018-04-06T04:04:29.605Z"
    }
   },
   "outputs": [],
   "source": [
    "comment_tokens <- data %$%\n",
    "  str_to_lower(comment_text) %>%\n",
    "  str_replace_all(\"[^[:alpha:]]\", \" \") %>%\n",
    "  str_replace_all(\"\\\\s+\", \" \") %>%\n",
    "  gsub(\"\\\\b\\\\w{1}\\\\s\",\"\", .) %>% #Remove words with lengh less than 2\n",
    "  itoken(tokenizer = tokenize_word_stems)"
   ]
  },
  {
   "cell_type": "markdown",
   "metadata": {},
   "source": [
    "##  Token vectorization as vocabulary for document term matrix"
   ]
  },
  {
   "cell_type": "code",
   "execution_count": null,
   "metadata": {
    "ExecuteTime": {
     "end_time": "2018-04-06T19:45:02.675540Z",
     "start_time": "2018-04-06T19:44:57.088Z"
    }
   },
   "outputs": [],
   "source": [
    "vectorizer <- create_vocabulary(comment_tokens, ngram = c(1, 1), stopwords = stopwords(\"en\")) %>%\n",
    "  prune_vocabulary(term_count_min = 3, doc_proportion_max = 0.5, vocab_term_max = 4000) %>%\n",
    "  vocab_vectorizer()"
   ]
  },
  {
   "cell_type": "markdown",
   "metadata": {},
   "source": [
    "## TFIDF class and fit in the document term matrix of the tokens"
   ]
  },
  {
   "cell_type": "code",
   "execution_count": 43,
   "metadata": {
    "ExecuteTime": {
     "end_time": "2018-04-06T04:05:12.551274Z",
     "start_time": "2018-04-06T04:04:58.143Z"
    }
   },
   "outputs": [],
   "source": [
    "m_tfidf <- TfIdf$new(norm = \"l2\", sublinear_tf = T)\n",
    "tfidf <- create_dtm(comment_tokens, vectorizer) %>%\n",
    "  fit_transform(m_tfidf)"
   ]
  },
  {
   "cell_type": "code",
   "execution_count": 44,
   "metadata": {
    "ExecuteTime": {
     "end_time": "2018-04-06T04:05:57.243114Z",
     "start_time": "2018-04-06T04:05:57.222Z"
    },
    "scrolled": true
   },
   "outputs": [
    {
     "name": "stdout",
     "output_type": "stream",
     "text": [
      "[1] \"comment_text\" \"length\"       \"ncap\"         \"ncap_len\"     \"nexcl\"       \n",
      "[6] \"nquest\"       \"npunct\"       \"nword\"        \"nsymb\"       \n"
     ]
    }
   ],
   "source": [
    "print(names(data))"
   ]
  },
  {
   "cell_type": "markdown",
   "metadata": {},
   "source": [
    "# Generate the final dataset"
   ]
  },
  {
   "cell_type": "markdown",
   "metadata": {},
   "source": [
    "## First data set \n",
    "If you want to use the following features :\n",
    "length, ncap, ncap_len, nexcl, nquest, npunct, nword, nsymb + documentTermMatrix for your classifier"
   ]
  },
  {
   "cell_type": "code",
   "execution_count": 35,
   "metadata": {
    "ExecuteTime": {
     "end_time": "2018-04-06T04:03:50.354881Z",
     "start_time": "2018-04-06T04:03:49.959Z"
    }
   },
   "outputs": [],
   "source": [
    "finaldata <- data %>%\n",
    "    select(-comment_text) %>%\n",
    "    sparse.model.matrix(~ . - 1, .) %>%\n",
    "    cbind(tfidf)"
   ]
  },
  {
   "cell_type": "markdown",
   "metadata": {},
   "source": [
    "## Second data set \n",
    "If you want to use only the document term matrix for you classifier"
   ]
  },
  {
   "cell_type": "code",
   "execution_count": 34,
   "metadata": {
    "ExecuteTime": {
     "end_time": "2018-04-06T04:03:47.271695Z",
     "start_time": "2018-04-06T04:03:47.254Z"
    }
   },
   "outputs": [],
   "source": [
    "finaldata <- tfidf"
   ]
  },
  {
   "cell_type": "code",
   "execution_count": 36,
   "metadata": {
    "ExecuteTime": {
     "end_time": "2018-04-06T04:03:53.006296Z",
     "start_time": "2018-04-06T04:03:52.598Z"
    }
   },
   "outputs": [],
   "source": [
    "set.seed(42)\n",
    "smp_size <- floor(0.80 * nrow(data_set))\n",
    "train_ind <- sample(seq_len(nrow(data_set)), size = smp_size)\n",
    "test <- finaldata[-train_ind, ]\n",
    "train <- finaldata[train_ind, ]"
   ]
  },
  {
   "cell_type": "code",
   "execution_count": null,
   "metadata": {},
   "outputs": [],
   "source": []
  }
 ],
 "metadata": {
  "kernelspec": {
   "display_name": "R",
   "language": "R",
   "name": "ir"
  },
  "language_info": {
   "codemirror_mode": "r",
   "file_extension": ".r",
   "mimetype": "text/x-r-source",
   "name": "R",
   "pygments_lexer": "r",
   "version": "3.4.1"
  },
  "varInspector": {
   "cols": {
    "lenName": 16,
    "lenType": 16,
    "lenVar": 40
   },
   "kernels_config": {
    "python": {
     "delete_cmd_postfix": "",
     "delete_cmd_prefix": "del ",
     "library": "var_list.py",
     "varRefreshCmd": "print(var_dic_list())"
    },
    "r": {
     "delete_cmd_postfix": ") ",
     "delete_cmd_prefix": "rm(",
     "library": "var_list.r",
     "varRefreshCmd": "cat(var_dic_list()) "
    }
   },
   "oldHeight": 123,
   "position": {
    "height": "40px",
    "left": "714px",
    "right": "-4px",
    "top": "45px",
    "width": "250px"
   },
   "types_to_exclude": [
    "module",
    "function",
    "builtin_function_or_method",
    "instance",
    "_Feature"
   ],
   "varInspector_section_display": "none",
   "window_display": true
  }
 },
 "nbformat": 4,
 "nbformat_minor": 2
}
