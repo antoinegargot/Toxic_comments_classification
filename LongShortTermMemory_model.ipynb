{
 "cells": [
  {
   "cell_type": "code",
   "execution_count": 1,
   "metadata": {
    "ExecuteTime": {
     "end_time": "2018-04-09T16:49:49.025946Z",
     "start_time": "2018-04-09T16:49:41.678Z"
    },
    "scrolled": true
   },
   "outputs": [
    {
     "name": "stderr",
     "output_type": "stream",
     "text": [
      "Warning message:\n",
      "“package ‘keras’ was built under R version 3.4.4”Warning message:\n",
      "“package ‘tidyverse’ was built under R version 3.4.2”── Attaching packages ─────────────────────────────────────── tidyverse 1.2.1 ──\n",
      "✔ ggplot2 2.2.1     ✔ purrr   0.2.4\n",
      "✔ tibble  1.4.2     ✔ dplyr   0.7.4\n",
      "✔ tidyr   0.7.2     ✔ stringr 1.2.0\n",
      "✔ readr   1.1.1     ✔ forcats 0.3.0\n",
      "Warning message:\n",
      "“package ‘tibble’ was built under R version 3.4.3”Warning message:\n",
      "“package ‘tidyr’ was built under R version 3.4.2”Warning message:\n",
      "“package ‘purrr’ was built under R version 3.4.2”Warning message:\n",
      "“package ‘dplyr’ was built under R version 3.4.2”Warning message:\n",
      "“package ‘forcats’ was built under R version 3.4.3”── Conflicts ────────────────────────────────────────── tidyverse_conflicts() ──\n",
      "✖ dplyr::filter()  masks stats::filter()\n",
      "✖ purrr::flatten() masks jsonlite::flatten()\n",
      "✖ dplyr::lag()     masks stats::lag()\n",
      "\n",
      "Attaching package: ‘magrittr’\n",
      "\n",
      "The following object is masked from ‘package:purrr’:\n",
      "\n",
      "    set_names\n",
      "\n",
      "The following object is masked from ‘package:tidyr’:\n",
      "\n",
      "    extract\n",
      "\n",
      "Warning message:\n",
      "“package ‘text2vec’ was built under R version 3.4.3”\n",
      "Attaching package: ‘text2vec’\n",
      "\n",
      "The following objects are masked from ‘package:keras’:\n",
      "\n",
      "    fit, normalize\n",
      "\n",
      "Warning message:\n",
      "“package ‘tokenizers’ was built under R version 3.4.4”Warning message:\n",
      "“package ‘glmnet’ was built under R version 3.4.2”Loading required package: Matrix\n",
      "Warning message:\n",
      "“package ‘Matrix’ was built under R version 3.4.2”\n",
      "Attaching package: ‘Matrix’\n",
      "\n",
      "The following object is masked from ‘package:tidyr’:\n",
      "\n",
      "    expand\n",
      "\n",
      "Loading required package: foreach\n",
      "\n",
      "Attaching package: ‘foreach’\n",
      "\n",
      "The following objects are masked from ‘package:purrr’:\n",
      "\n",
      "    accumulate, when\n",
      "\n",
      "Loaded glmnet 2.0-13\n",
      "\n",
      "Warning message:\n",
      "“package ‘doParallel’ was built under R version 3.4.2”Loading required package: iterators\n",
      "Loading required package: parallel\n",
      "Warning message:\n",
      "“package ‘tm’ was built under R version 3.4.3”Loading required package: NLP\n",
      "\n",
      "Attaching package: ‘NLP’\n",
      "\n",
      "The following object is masked from ‘package:ggplot2’:\n",
      "\n",
      "    annotate\n",
      "\n",
      "Loading required package: lattice\n",
      "\n",
      "Attaching package: ‘caret’\n",
      "\n",
      "The following object is masked from ‘package:purrr’:\n",
      "\n",
      "    lift\n",
      "\n",
      "Loading required package: mldr\n",
      "Warning message:\n",
      "“package ‘mldr’ was built under R version 3.4.3”\n",
      "Attaching package: ‘mldr’\n",
      "\n",
      "The following objects are masked from ‘package:caret’:\n",
      "\n",
      "    precision, recall\n",
      "\n",
      "\n",
      "Attaching package: ‘utiml’\n",
      "\n",
      "The following object is masked from ‘package:caret’:\n",
      "\n",
      "    lift\n",
      "\n",
      "The following object is masked from ‘package:purrr’:\n",
      "\n",
      "    lift\n",
      "\n",
      "Type 'citation(\"pROC\")' for a citation.\n",
      "\n",
      "Attaching package: ‘pROC’\n",
      "\n",
      "The following object is masked from ‘package:mldr’:\n",
      "\n",
      "    roc\n",
      "\n",
      "The following object is masked from ‘package:glmnet’:\n",
      "\n",
      "    auc\n",
      "\n",
      "The following objects are masked from ‘package:stats’:\n",
      "\n",
      "    cov, smooth, var\n",
      "\n",
      "successfully loaded keras\n",
      "\n",
      "Attaching package: ‘kerasR’\n",
      "\n",
      "The following object is masked from ‘package:text2vec’:\n",
      "\n",
      "    normalize\n",
      "\n",
      "The following objects are masked from ‘package:keras’:\n",
      "\n",
      "    normalize, pad_sequences, text_to_word_sequence, to_categorical\n",
      "\n"
     ]
    }
   ],
   "source": [
    "library(keras)\n",
    "library(tidyverse)\n",
    "library(magrittr)\n",
    "library(text2vec)\n",
    "library(tokenizers)\n",
    "library(glmnet)\n",
    "library(doParallel)\n",
    "library(tm)\n",
    "library(caret)\n",
    "library(utiml)\n",
    "library(pROC)\n",
    "library(kerasR)\n",
    "registerDoParallel(4)"
   ]
  },
  {
   "cell_type": "code",
   "execution_count": 2,
   "metadata": {
    "ExecuteTime": {
     "end_time": "2018-04-09T16:50:08.453148Z",
     "start_time": "2018-04-09T16:49:41.680Z"
    }
   },
   "outputs": [],
   "source": [
    "data_set <- read.csv(\"DATA/train.csv\")\n",
    "targets <- c(\"toxic\", \"severe_toxic\", \"obscene\", \"threat\", \"insult\", \"identity_hate\")"
   ]
  },
  {
   "cell_type": "code",
   "execution_count": 3,
   "metadata": {
    "ExecuteTime": {
     "end_time": "2018-04-09T16:50:08.645596Z",
     "start_time": "2018-04-09T16:49:41.682Z"
    }
   },
   "outputs": [],
   "source": [
    "set.seed(42)\n",
    "smp_size <- floor(0.80 * nrow(data_set))\n",
    "train_ind <- sample(seq_len(nrow(data_set)), size = smp_size)\n",
    "test <- data_set[-train_ind, ]\n",
    "train <- data_set[train_ind, ]"
   ]
  },
  {
   "cell_type": "code",
   "execution_count": 4,
   "metadata": {
    "ExecuteTime": {
     "end_time": "2018-04-09T16:50:08.700290Z",
     "start_time": "2018-04-09T16:49:41.684Z"
    }
   },
   "outputs": [],
   "source": [
    "word_vector_size <- 50\n",
    "voc_lenght <- 20000\n",
    "max_words <- 200"
   ]
  },
  {
   "cell_type": "code",
   "execution_count": 5,
   "metadata": {
    "ExecuteTime": {
     "end_time": "2018-04-09T16:50:08.764477Z",
     "start_time": "2018-04-09T16:49:41.685Z"
    }
   },
   "outputs": [],
   "source": [
    "y_train <- train %>%\n",
    "    select(-comment_text) %>%\n",
    "    select(-id)"
   ]
  },
  {
   "cell_type": "code",
   "execution_count": 6,
   "metadata": {
    "ExecuteTime": {
     "end_time": "2018-04-09T16:50:17.504095Z",
     "start_time": "2018-04-09T16:49:41.688Z"
    }
   },
   "outputs": [],
   "source": [
    "tokenizer <- text_tokenizer(num_words = voc_lenght, filters = \"!\\\"#$%&()*+,-./:;<=>?@[\\\\]^_`{|}~\\t\\n\", lower = TRUE, split = \" \", char_level = FALSE, oov_token = NULL)\n",
    "\n",
    "train_comment <- train %$%\n",
    "    str_to_lower(comment_text) %>%\n",
    "    str_replace_all(\"[^[:alpha:]]\", \" \") %>%\n",
    "    str_replace_all(\"\\\\s+\", \" \") %>%\n",
    "    gsub(\"\\\\b\\\\w{1}\\\\s\",\"\", .) #Remove words with lengh less than 2"
   ]
  },
  {
   "cell_type": "code",
   "execution_count": 7,
   "metadata": {
    "ExecuteTime": {
     "end_time": "2018-04-09T16:50:20.375568Z",
     "start_time": "2018-04-09T16:49:41.690Z"
    }
   },
   "outputs": [],
   "source": [
    "test_comment <- test %$%\n",
    "    str_to_lower(comment_text) %>%\n",
    "    str_replace_all(\"[^[:alpha:]]\", \" \") %>%\n",
    "    str_replace_all(\"\\\\s+\", \" \") %>%\n",
    "    gsub(\"\\\\b\\\\w{1}\\\\s\",\"\", .) #Remove words with lengh less than 2"
   ]
  },
  {
   "cell_type": "code",
   "execution_count": 8,
   "metadata": {
    "ExecuteTime": {
     "end_time": "2018-04-09T16:50:39.986560Z",
     "start_time": "2018-04-09T16:49:41.692Z"
    }
   },
   "outputs": [],
   "source": [
    "fit_text_tokenizer(tokenizer, train_comment)\n",
    "tokenized_train <- texts_to_sequences(tokenizer, train_comment)\n",
    "tokenized_test <- texts_to_sequences(tokenizer, test_comment)"
   ]
  },
  {
   "cell_type": "code",
   "execution_count": 11,
   "metadata": {
    "ExecuteTime": {
     "end_time": "2018-04-09T16:55:52.667807Z",
     "start_time": "2018-04-09T16:55:52.611Z"
    }
   },
   "outputs": [
    {
     "data": {
      "text/html": [
       "'list'"
      ],
      "text/latex": [
       "'list'"
      ],
      "text/markdown": [
       "'list'"
      ],
      "text/plain": [
       "[1] \"list\""
      ]
     },
     "metadata": {},
     "output_type": "display_data"
    },
    {
     "data": {
      "text/html": [
       "'list'"
      ],
      "text/latex": [
       "'list'"
      ],
      "text/markdown": [
       "'list'"
      ],
      "text/plain": [
       "[1] \"list\""
      ]
     },
     "metadata": {},
     "output_type": "display_data"
    }
   ],
   "source": [
    "typeof(tokenized_train)\n",
    "typeof(tokenized_test)"
   ]
  },
  {
   "cell_type": "code",
   "execution_count": 10,
   "metadata": {
    "ExecuteTime": {
     "end_time": "2018-04-09T16:54:52.147140Z",
     "start_time": "2018-04-09T16:49:41.698Z"
    },
    "scrolled": true
   },
   "outputs": [
    {
     "ename": "ERROR",
     "evalue": "Error in py_call_impl(callable, dots$args, dots$keywords): ValueError: `sequences` must be a list of iterables. Found non-iterable: 1086\n\nDetailed traceback: \n  File \"/Users/antoinegargot/anaconda3/envs/r-tensorflow/lib/python3.6/site-packages/keras/preprocessing/sequence.py\", line 59, in pad_sequences\n    'Found non-iterable: ' + str(x))\n\n",
     "output_type": "error",
     "traceback": [
      "Error in py_call_impl(callable, dots$args, dots$keywords): ValueError: `sequences` must be a list of iterables. Found non-iterable: 1086\n\nDetailed traceback: \n  File \"/Users/antoinegargot/anaconda3/envs/r-tensorflow/lib/python3.6/site-packages/keras/preprocessing/sequence.py\", line 59, in pad_sequences\n    'Found non-iterable: ' + str(x))\n\nTraceback:\n",
      "1. pad_sequences(tokenized_train, maxlen = max_words, dtype = \"int32\", \n .     padding = \"pre\", truncating = \"pre\", value = 0)",
      "2. modules$keras.preprocessing.sequence$pad_sequences(sequences = sequences, \n .     maxlen = maxlen, dtype = dtype, padding = padding, truncating = truncating, \n .     value = value)",
      "3. py_call_impl(callable, dots$args, dots$keywords)"
     ]
    }
   ],
   "source": [
    "X_t <- pad_sequences(tokenized_train, maxlen = max_words, dtype = \"int32\", padding = \"pre\",\n",
    "  truncating = \"pre\", value = 0)\n",
    "X_te <- pad_sequences(tokenized_test, maxlen = max_words, dtype = \"int32\", padding = \"pre\",\n",
    "  truncating = \"pre\", value = 0)"
   ]
  },
  {
   "cell_type": "code",
   "execution_count": 30,
   "metadata": {
    "ExecuteTime": {
     "end_time": "2018-04-09T17:22:56.503559Z",
     "start_time": "2018-04-09T17:22:56.465Z"
    }
   },
   "outputs": [],
   "source": [
    "input <- layer_input(shape = c(max_words))"
   ]
  },
  {
   "cell_type": "code",
   "execution_count": 31,
   "metadata": {
    "ExecuteTime": {
     "end_time": "2018-04-09T17:22:57.146491Z",
     "start_time": "2018-04-09T17:22:57.106Z"
    }
   },
   "outputs": [],
   "source": [
    "x <- layer_embedding(input, voc_lenght, 128)"
   ]
  },
  {
   "cell_type": "code",
   "execution_count": 34,
   "metadata": {
    "ExecuteTime": {
     "end_time": "2018-04-09T17:23:31.877974Z",
     "start_time": "2018-04-09T17:23:31.810Z"
    }
   },
   "outputs": [
    {
     "ename": "ERROR",
     "evalue": "Error in py_call_impl(callable, dots$args, dots$keywords): TypeError: Expected int32, got list containing Tensors of type '_Message' instead.\n\nDetailed traceback: \n  File \"/Users/antoinegargot/anaconda3/envs/r-tensorflow/lib/python3.6/site-packages/keras/layers/recurrent.py\", line 499, in __call__\n    return super(RNN, self).__call__(inputs, **kwargs)\n  File \"/Users/antoinegargot/anaconda3/envs/r-tensorflow/lib/python3.6/site-packages/keras/engine/topology.py\", line 592, in __call__\n    self.build(input_shapes[0])\n  File \"/Users/antoinegargot/anaconda3/envs/r-tensorflow/lib/python3.6/site-packages/keras/layers/recurrent.py\", line 461, in build\n    self.cell.build(step_input_shape)\n  File \"/Users/antoinegargot/anaconda3/envs/r-tensorflow/lib/python3.6/site-packages/keras/layers/recurrent.py\", line 1860, in build\n    constraint=self.bias_constraint)\n  File \"/Users/antoinegargot/anaconda3/envs/r-tensorflow/lib/python3.6/site-packages/keras/legacy/interfaces.py\", line 91, in wrapper\n    return func(*args, **kwargs)\n  File \"/Users/antoinegargot/anaconda3/envs/r-tensorflow/lib/python3.6/site-packages/keras/engine/topology.py\", line 413, in add_weight\n    weight = K.variable(initializer(shape),\n  File \"/Users/antoinegargot/anaconda3/envs/r-tensorflow/lib/python3.6/site-packages/keras/layers/recurrent.py\", line 1852, in bias_initializer\n    self.bias_initializer((self.units * 2,), *args, **kwargs),\n  File \"/Users/antoinegargot/anaconda3/envs/r-tensorflow/lib/python3.6/site-packages/keras/backend/tensorflow_backend.py\", line 1881, in concatenate\n    return tf.concat([to_dense(x) for x in tensors], axis)\n  File \"/Users/antoinegargot/.local/lib/python3.6/site-packages/tensorflow/python/ops/array_ops.py\", line 1075, in concat\n    dtype=dtypes.int32).get_shape(\n  File \"/Users/antoinegargot/.local/lib/python3.6/site-packages/tensorflow/python/framework/ops.py\", line 669, in convert_to_tensor\n    ret = conversion_func(value, dtype=dtype, name=name, as_ref=as_ref)\n  File \"/Users/antoinegargot/.local/lib/python3.6/site-packages/tensorflow/python/framework/constant_op.py\", line 176, in _constant_tensor_conversion_function\n    return constant(v, dtype=dtype, name=name)\n  File \"/Users/antoinegargot/.local/lib/python3.6/site-packages/tensorflow/python/framework/constant_op.py\", line 165, in constant\n    tensor_util.make_tensor_proto(value, dtype=dtype, shape=shape, verify_shape=verify_shape))\n  File \"/Users/antoinegargot/.local/lib/python3.6/site-packages/tensorflow/python/framework/tensor_util.py\", line 367, in make_tensor_proto\n    _AssertCompatible(values, dtype)\n  File \"/Users/antoinegargot/.local/lib/python3.6/site-packages/tensorflow/python/framework/tensor_util.py\", line 302, in _AssertCompatible\n    (dtype.name, repr(mismatch), type(mismatch).__name__))\n\n",
     "output_type": "error",
     "traceback": [
      "Error in py_call_impl(callable, dots$args, dots$keywords): TypeError: Expected int32, got list containing Tensors of type '_Message' instead.\n\nDetailed traceback: \n  File \"/Users/antoinegargot/anaconda3/envs/r-tensorflow/lib/python3.6/site-packages/keras/layers/recurrent.py\", line 499, in __call__\n    return super(RNN, self).__call__(inputs, **kwargs)\n  File \"/Users/antoinegargot/anaconda3/envs/r-tensorflow/lib/python3.6/site-packages/keras/engine/topology.py\", line 592, in __call__\n    self.build(input_shapes[0])\n  File \"/Users/antoinegargot/anaconda3/envs/r-tensorflow/lib/python3.6/site-packages/keras/layers/recurrent.py\", line 461, in build\n    self.cell.build(step_input_shape)\n  File \"/Users/antoinegargot/anaconda3/envs/r-tensorflow/lib/python3.6/site-packages/keras/layers/recurrent.py\", line 1860, in build\n    constraint=self.bias_constraint)\n  File \"/Users/antoinegargot/anaconda3/envs/r-tensorflow/lib/python3.6/site-packages/keras/legacy/interfaces.py\", line 91, in wrapper\n    return func(*args, **kwargs)\n  File \"/Users/antoinegargot/anaconda3/envs/r-tensorflow/lib/python3.6/site-packages/keras/engine/topology.py\", line 413, in add_weight\n    weight = K.variable(initializer(shape),\n  File \"/Users/antoinegargot/anaconda3/envs/r-tensorflow/lib/python3.6/site-packages/keras/layers/recurrent.py\", line 1852, in bias_initializer\n    self.bias_initializer((self.units * 2,), *args, **kwargs),\n  File \"/Users/antoinegargot/anaconda3/envs/r-tensorflow/lib/python3.6/site-packages/keras/backend/tensorflow_backend.py\", line 1881, in concatenate\n    return tf.concat([to_dense(x) for x in tensors], axis)\n  File \"/Users/antoinegargot/.local/lib/python3.6/site-packages/tensorflow/python/ops/array_ops.py\", line 1075, in concat\n    dtype=dtypes.int32).get_shape(\n  File \"/Users/antoinegargot/.local/lib/python3.6/site-packages/tensorflow/python/framework/ops.py\", line 669, in convert_to_tensor\n    ret = conversion_func(value, dtype=dtype, name=name, as_ref=as_ref)\n  File \"/Users/antoinegargot/.local/lib/python3.6/site-packages/tensorflow/python/framework/constant_op.py\", line 176, in _constant_tensor_conversion_function\n    return constant(v, dtype=dtype, name=name)\n  File \"/Users/antoinegargot/.local/lib/python3.6/site-packages/tensorflow/python/framework/constant_op.py\", line 165, in constant\n    tensor_util.make_tensor_proto(value, dtype=dtype, shape=shape, verify_shape=verify_shape))\n  File \"/Users/antoinegargot/.local/lib/python3.6/site-packages/tensorflow/python/framework/tensor_util.py\", line 367, in make_tensor_proto\n    _AssertCompatible(values, dtype)\n  File \"/Users/antoinegargot/.local/lib/python3.6/site-packages/tensorflow/python/framework/tensor_util.py\", line 302, in _AssertCompatible\n    (dtype.name, repr(mismatch), type(mismatch).__name__))\n\nTraceback:\n",
      "1. layer_lstm(x, 60, return_sequences = T)",
      "2. create_layer(keras$layers$LSTM, object, args)",
      "3. compose_layer(object, layer)",
      "4. compose_layer.python.builtin.object(object, layer)",
      "5. layer(object)",
      "6. py_call_impl(callable, dots$args, dots$keywords)"
     ]
    }
   ],
   "source": [
    "x <- layer_lstm(x, 60, return_sequences = T)"
   ]
  },
  {
   "cell_type": "code",
   "execution_count": null,
   "metadata": {},
   "outputs": [],
   "source": [
    "x <- layer_dense(input, 128, activation = NULL, use_bias = TRUE,\n",
    "  kernel_initializer = \"glorot_uniform\", bias_initializer = \"zeros\",\n",
    "  kernel_regularizer = NULL, bias_regularizer = NULL,\n",
    "  activity_regularizer = NULL, kernel_constraint = NULL,\n",
    "  bias_constraint = NULL, input_shape = NULL, batch_input_shape = NULL,\n",
    "  batch_size = NULL, dtype = NULL, name = NULL, trainable = NULL,\n",
    "  weights = NULL)"
   ]
  },
  {
   "cell_type": "code",
   "execution_count": null,
   "metadata": {},
   "outputs": [],
   "source": [
    "layer_dropout(object, rate, noise_shape = NULL, seed = NULL,\n",
    "  batch_size = NULL, name = NULL, trainable = NULL, weights = NULL)\n"
   ]
  },
  {
   "cell_type": "code",
   "execution_count": 37,
   "metadata": {
    "ExecuteTime": {
     "end_time": "2018-04-09T23:10:08.425227Z",
     "start_time": "2018-04-09T23:10:05.261Z"
    }
   },
   "outputs": [
    {
     "data": {
      "image/png": "[encoded data removed]",
      "text/plain": [
       "plot without title"
      ]
     },
     "metadata": {},
     "output_type": "display_data"
    }
   ],
   "source": [
    "prob = function(n) return(1 - (1 - 1/n)^n)\n",
    "x = 1:1e+05\n",
    "plot(x, prob(x))"
   ]
  },
  {
   "cell_type": "code",
   "execution_count": 43,
   "metadata": {
    "ExecuteTime": {
     "end_time": "2018-04-09T23:12:10.818751Z",
     "start_time": "2018-04-09T23:12:10.627Z"
    }
   },
   "outputs": [
    {
     "data": {
      "text/html": [
       "0.6302"
      ],
      "text/latex": [
       "0.6302"
      ],
      "text/markdown": [
       "0.6302"
      ],
      "text/plain": [
       "[1] 0.6302"
      ]
     },
     "metadata": {},
     "output_type": "display_data"
    }
   ],
   "source": [
    "store=rep(NA, 10000)\n",
    "for(i in 1:10000){\n",
    "    store[i]=sum(sample(1:100, rep=TRUE)==4)>0\n",
    "}\n",
    "mean(store) "
   ]
  },
  {
   "cell_type": "code",
   "execution_count": null,
   "metadata": {},
   "outputs": [],
   "source": []
  }
 ],
 "metadata": {
  "kernelspec": {
   "display_name": "R",
   "language": "R",
   "name": "ir"
  },
  "language_info": {
   "codemirror_mode": "r",
   "file_extension": ".r",
   "mimetype": "text/x-r-source",
   "name": "R",
   "pygments_lexer": "r",
   "version": "3.4.1"
  },
  "varInspector": {
   "cols": {
    "lenName": 16,
    "lenType": 16,
    "lenVar": 40
   },
   "kernels_config": {
    "python": {
     "delete_cmd_postfix": "",
     "delete_cmd_prefix": "del ",
     "library": "var_list.py",
     "varRefreshCmd": "print(var_dic_list())"
    },
    "r": {
     "delete_cmd_postfix": ") ",
     "delete_cmd_prefix": "rm(",
     "library": "var_list.r",
     "varRefreshCmd": "cat(var_dic_list()) "
    }
   },
   "types_to_exclude": [
    "module",
    "function",
    "builtin_function_or_method",
    "instance",
    "_Feature"
   ],
   "window_display": false
  }
 },
 "nbformat": 4,
 "nbformat_minor": 2
}
